{
  "cells": [
    {
      "cell_type": "code",
      "source": [
        "from sklearn.datasets import load_sample_images\n",
        "import tensorflow as tf\n"
      ],
      "metadata": {
        "id": "YLvubNXvBcK3"
      },
      "execution_count": 28,
      "outputs": []
    },
    {
      "cell_type": "code",
      "source": [
        "images = load_sample_images()[\"images\"]"
      ],
      "metadata": {
        "id": "INX-XzgHBlt6"
      },
      "execution_count": 29,
      "outputs": []
    },
    {
      "cell_type": "code",
      "source": [
        "images[0].shape"
      ],
      "metadata": {
        "id": "GdFIajpHA1QB",
        "outputId": "e7ed501d-1d7d-487b-ae97-6883087c168b",
        "colab": {
          "base_uri": "https://localhost:8080/"
        }
      },
      "execution_count": 30,
      "outputs": [
        {
          "output_type": "execute_result",
          "data": {
            "text/plain": [
              "(427, 640, 3)"
            ]
          },
          "metadata": {},
          "execution_count": 30
        }
      ]
    },
    {
      "cell_type": "code",
      "source": [
        "images = tf.keras.layers.CenterCrop(height=80, width=120)(images)\n",
        "images = tf.keras.layers.Rescaling(scale=1/255)(images)"
      ],
      "metadata": {
        "id": "HGaDweabCCiT"
      },
      "execution_count": 31,
      "outputs": []
    },
    {
      "cell_type": "code",
      "source": [
        "images.shape"
      ],
      "metadata": {
        "id": "NnVWuMtxCl2E",
        "outputId": "8edba582-3114-451b-f3d8-ad990df77a75",
        "colab": {
          "base_uri": "https://localhost:8080/"
        }
      },
      "execution_count": 32,
      "outputs": [
        {
          "output_type": "execute_result",
          "data": {
            "text/plain": [
              "TensorShape([2, 80, 120, 3])"
            ]
          },
          "metadata": {},
          "execution_count": 32
        }
      ]
    },
    {
      "cell_type": "code",
      "source": [
        "conv_layer = tf.keras.layers.Conv2D(filters=32, kernel_size=7)"
      ],
      "metadata": {
        "id": "LDZ7ruT7DvIN"
      },
      "execution_count": 33,
      "outputs": []
    },
    {
      "cell_type": "code",
      "source": [
        "fmaps = conv_layer(images)"
      ],
      "metadata": {
        "id": "_xeM42jsEchH"
      },
      "execution_count": 34,
      "outputs": []
    },
    {
      "cell_type": "code",
      "source": [
        "fmaps.shape"
      ],
      "metadata": {
        "id": "ZFvUhd6aEif9",
        "outputId": "b7f488ad-9b19-49e3-aa42-4cd2bff991a1",
        "colab": {
          "base_uri": "https://localhost:8080/"
        }
      },
      "execution_count": 35,
      "outputs": [
        {
          "output_type": "execute_result",
          "data": {
            "text/plain": [
              "TensorShape([2, 74, 114, 32])"
            ]
          },
          "metadata": {},
          "execution_count": 35
        }
      ]
    },
    {
      "cell_type": "code",
      "source": [
        "conv_layer = tf.keras.layers.Conv2D(filters=32, kernel_size=7, padding = \"same\")"
      ],
      "metadata": {
        "id": "hEUNyIt2E03O"
      },
      "execution_count": 36,
      "outputs": []
    },
    {
      "cell_type": "code",
      "source": [
        "fmaps = conv_layer(images)"
      ],
      "metadata": {
        "id": "TB0c6s5sFAtk"
      },
      "execution_count": 37,
      "outputs": []
    },
    {
      "cell_type": "code",
      "source": [
        "fmaps.shape"
      ],
      "metadata": {
        "id": "nA6ZHAZxFFaE",
        "outputId": "6b5bd65e-ff90-41b4-d9ff-826afbb33bbd",
        "colab": {
          "base_uri": "https://localhost:8080/"
        }
      },
      "execution_count": 38,
      "outputs": [
        {
          "output_type": "execute_result",
          "data": {
            "text/plain": [
              "TensorShape([2, 80, 120, 32])"
            ]
          },
          "metadata": {},
          "execution_count": 38
        }
      ]
    }
  ],
  "metadata": {
    "colab": {
      "name": "beginner.ipynb",
      "provenance": []
    },
    "kernelspec": {
      "display_name": "Python 3",
      "name": "python3"
    }
  },
  "nbformat": 4,
  "nbformat_minor": 0
}